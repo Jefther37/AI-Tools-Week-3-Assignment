{
 "cells": [
  {
   "cell_type": "code",
   "execution_count": null,
   "id": "907c6438",
   "metadata": {},
   "outputs": [],
   "source": [
    "\n",
    "# Task 3: NLP with spaCy - NER and Sentiment on Amazon Reviews\n",
    "\n",
    "import spacy\n",
    "from spacy import displacy\n",
    "from spacy.matcher import Matcher\n",
    "\n",
    "# Load spaCy English model\n",
    "nlp = spacy.load(\"en_core_web_sm\")\n",
    "\n",
    "# Sample Amazon reviews\n",
    "reviews = [\n",
    "    \"I absolutely love the Sony headphones! Great sound quality and battery life.\",\n",
    "    \"This Samsung phone has a terrible screen resolution. Would not recommend.\",\n",
    "    \"The Nike running shoes are very comfortable and stylish. Highly recommend!\",\n",
    "    \"Avoid the XYZ blender. Poor build quality and too noisy.\",\n",
    "    \"Apple MacBook is a bit expensive but worth every penny for performance.\"\n",
    "]\n",
    "\n",
    "# Perform NER and sentiment analysis\n",
    "for i, review in enumerate(reviews, 1):\n",
    "    doc = nlp(review)\n",
    "    print(f\"\\nReview {i}: {review}\")\n",
    "    print(\"Named Entities:\")\n",
    "    for ent in doc.ents:\n",
    "        print(f\"  - {ent.text} ({ent.label_})\")\n",
    "    \n",
    "    # Simple rule-based sentiment analysis\n",
    "    positive_words = [\"love\", \"great\", \"comfortable\", \"highly recommend\", \"worth\"]\n",
    "    negative_words = [\"terrible\", \"avoid\", \"poor\", \"noisy\", \"not recommend\"]\n",
    "    sentiment_score = sum(word in review.lower() for word in positive_words) - sum(word in review.lower() for word in negative_words)\n",
    "    sentiment = \"Positive\" if sentiment_score > 0 else \"Negative\" if sentiment_score < 0 else \"Neutral\"\n",
    "    print(f\"Sentiment: {sentiment}\")\n"
   ]
  }
 ],
 "metadata": {},
 "nbformat": 4,
 "nbformat_minor": 5
}